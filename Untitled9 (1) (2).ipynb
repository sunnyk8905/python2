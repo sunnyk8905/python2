{
 "cells": [
  {
   "cell_type": "code",
   "execution_count": null,
   "id": "e05c4356-520b-48a6-b84c-8f94e1ebc149",
   "metadata": {},
   "outputs": [],
   "source": [
    "Q1). How do you comment code in python ? What are the different types of comments ?"
   ]
  },
  {
   "cell_type": "code",
   "execution_count": null,
   "id": "8b218317-43cc-49d0-b4a5-1ea61adaded6",
   "metadata": {},
   "outputs": [],
   "source": [
    "     comments in python starts with hash(#) symbol.\n",
    "         example :- \"hello world\"\n",
    "                    #\"hello world\" it is a comment.\n",
    "         the different types of comment are\n",
    "         1) singleline comment\n",
    "         2) multiline comment\n",
    "         3) docstring comment"
   ]
  },
  {
   "cell_type": "code",
   "execution_count": null,
   "id": "fb8d0df3-9d28-4daa-b748-8532581065e2",
   "metadata": {},
   "outputs": [],
   "source": [
    "Q2). What are variables in python ? How do you declare and assign values to variables ?"
   ]
  },
  {
   "cell_type": "code",
   "execution_count": null,
   "id": "95d47cc2-f54d-46ba-b344-73678bbdb24e",
   "metadata": {},
   "outputs": [],
   "source": [
    "     variables are nothing but reserved memory locations to store values. This means when you create a variable ,\n",
    "      you reserve some space in memory.\n",
    "      Python variables do not need explict declaration to reserve memory space.The declaration happens automatically when you \n",
    "      assign a values to a variable .The equal sign(=) is used to assign values to variable.\n",
    "        example :- a=15\n",
    "                   b=3.12\n",
    "                   c=\"Rise\"\n",
    "                a,b,c are variables"
   ]
  },
  {
   "cell_type": "code",
   "execution_count": null,
   "id": "162deaa1-6f94-4808-a5ae-6e406af833e4",
   "metadata": {},
   "outputs": [],
   "source": [
    "Q3). How do you convert one data type to another in python ?"
   ]
  },
  {
   "cell_type": "code",
   "execution_count": null,
   "id": "dc4fdd40-da0d-446e-965f-6e1bcd905a8b",
   "metadata": {},
   "outputs": [],
   "source": [
    "      To convert one data type to another in python, we use the type name as a function."
   ]
  },
  {
   "cell_type": "code",
   "execution_count": 2,
   "id": "b49bda3f-870a-4244-9266-55a291b33c8f",
   "metadata": {},
   "outputs": [],
   "source": [
    "      z=\"20\""
   ]
  },
  {
   "cell_type": "code",
   "execution_count": 4,
   "id": "2281e2bd-df11-4247-9b44-ca5e39846085",
   "metadata": {},
   "outputs": [
    {
     "name": "stdout",
     "output_type": "stream",
     "text": [
      "10\n"
     ]
    }
   ],
   "source": [
    "     print(int(z,5))"
   ]
  },
  {
   "cell_type": "code",
   "execution_count": null,
   "id": "3983bbcc-6311-4b67-9492-a79ec078c2b7",
   "metadata": {},
   "outputs": [],
   "source": [
    "Q4). How do you write and execute a python script from the command line ?"
   ]
  },
  {
   "cell_type": "code",
   "execution_count": null,
   "id": "ab5cc23a-bb3f-4d9d-bf92-fc7b2fd26898",
   "metadata": {},
   "outputs": [],
   "source": [
    "     To open a command line and type the word python followed by the path to your script file,\n",
    "     like this :python first_script .py Hello world Then you hit the Shift + Enter button from the keyboard."
   ]
  },
  {
   "cell_type": "code",
   "execution_count": null,
   "id": "c68eadd0-5d76-49a7-931e-4c00a78974ce",
   "metadata": {},
   "outputs": [],
   "source": [
    "     a=\"sunny\""
   ]
  },
  {
   "cell_type": "code",
   "execution_count": null,
   "id": "59ca241d-ba19-418d-a005-91d74ced002d",
   "metadata": {},
   "outputs": [],
   "source": [
    "Q5).Given a list my_list =[1,2,3,4,5], Write the code to slice the list and obtain the sub_list[2,3]."
   ]
  },
  {
   "cell_type": "code",
   "execution_count": 6,
   "id": "1f4472fa-3bdb-4244-8f49-c26157429cac",
   "metadata": {},
   "outputs": [],
   "source": [
    "my_list=[1,2,3,4,5]"
   ]
  },
  {
   "cell_type": "code",
   "execution_count": 7,
   "id": "e8539d53-a028-4f8c-bbab-1f83dd770b66",
   "metadata": {},
   "outputs": [
    {
     "data": {
      "text/plain": [
       "[2, 3]"
      ]
     },
     "execution_count": 7,
     "metadata": {},
     "output_type": "execute_result"
    }
   ],
   "source": [
    "my_list[1:3]"
   ]
  },
  {
   "cell_type": "code",
   "execution_count": null,
   "id": "83a780d3-ac99-43c7-b48b-040d15b0c4c2",
   "metadata": {},
   "outputs": [],
   "source": [
    "Q6).What is a complex no.in Mathematics, and how is it represented in python ?"
   ]
  },
  {
   "cell_type": "code",
   "execution_count": null,
   "id": "0f0a3b17-86b0-4ebb-8ffe-7881ce454592",
   "metadata": {},
   "outputs": [],
   "source": [
    "   Complex numbers are the numbers that expressed in the form of a+ib\n",
    "    where a is real no.& b is the imaginary no.\n",
    "    example:-l=(3+7j)"
   ]
  },
  {
   "cell_type": "code",
   "execution_count": null,
   "id": "fdaf778f-27e1-4647-9b17-0d6ffdaac04d",
   "metadata": {},
   "outputs": [],
   "source": [
    "Q7).What is the correct way to declare a variable named age and assign the value 25 to it ?  "
   ]
  },
  {
   "cell_type": "code",
   "execution_count": 1,
   "id": "406f05f2-a4bf-424b-bad7-fae3c6fbcb36",
   "metadata": {},
   "outputs": [],
   "source": [
    "  age=25"
   ]
  },
  {
   "cell_type": "code",
   "execution_count": null,
   "id": "5ef6a131-0c28-46e8-ad3e-1e1a9bb6af89",
   "metadata": {},
   "outputs": [],
   "source": [
    "Q8). Declare a variable named price and assign the value 9.99 to it . What data type does this variable belong it."
   ]
  },
  {
   "cell_type": "code",
   "execution_count": 2,
   "id": "26947dca-1fcf-4dfa-a531-a3a08ba4a880",
   "metadata": {},
   "outputs": [],
   "source": [
    " price = 9.99"
   ]
  },
  {
   "cell_type": "code",
   "execution_count": 3,
   "id": "10582974-2f75-4d9e-91af-ea66aa6e39e9",
   "metadata": {},
   "outputs": [
    {
     "data": {
      "text/plain": [
       "float"
      ]
     },
     "execution_count": 3,
     "metadata": {},
     "output_type": "execute_result"
    }
   ],
   "source": [
    "type(price)"
   ]
  },
  {
   "cell_type": "code",
   "execution_count": null,
   "id": "8a838a80-58ed-4d12-a1f4-9085f604ba69",
   "metadata": {},
   "outputs": [],
   "source": [
    "Q9). Create a variable named name and assign your full name to it as a string . How would you print the value of \n",
    "      this variable ?"
   ]
  },
  {
   "cell_type": "code",
   "execution_count": 7,
   "id": "89c85ba4-3ca1-4a29-9a7c-3f24323a531d",
   "metadata": {},
   "outputs": [],
   "source": [
    "  name=\"sunny kumar\""
   ]
  },
  {
   "cell_type": "code",
   "execution_count": 6,
   "id": "eb329473-2561-4290-b371-b476f0fb57ee",
   "metadata": {},
   "outputs": [
    {
     "name": "stdout",
     "output_type": "stream",
     "text": [
      "sunny kumar\n"
     ]
    }
   ],
   "source": [
    "print(name)"
   ]
  },
  {
   "cell_type": "code",
   "execution_count": null,
   "id": "d5c05259-188b-4f25-b144-dc18275a5336",
   "metadata": {},
   "outputs": [],
   "source": [
    " Q10).Given the string \"Hello ,World!\",extract the substring \"word\"."
   ]
  },
  {
   "cell_type": "code",
   "execution_count": 10,
   "id": "822bd272-7246-400f-ba07-bf1d8ff4b528",
   "metadata": {},
   "outputs": [],
   "source": [
    "   l=\"Hello,World!\""
   ]
  },
  {
   "cell_type": "code",
   "execution_count": 11,
   "id": "889b7e36-d414-4799-b658-1dba66e7700f",
   "metadata": {},
   "outputs": [
    {
     "data": {
      "text/plain": [
       "'World'"
      ]
     },
     "execution_count": 11,
     "metadata": {},
     "output_type": "execute_result"
    }
   ],
   "source": [
    "  l[6:11]"
   ]
  },
  {
   "cell_type": "code",
   "execution_count": null,
   "id": "b1b0b896-e6ff-45c1-a976-b82fc47723e9",
   "metadata": {},
   "outputs": [],
   "source": [
    "Q11).Create a variable named \"is_student\" and assign it a boolean value indicating whether you are \n",
    "     currently a student or not."
   ]
  },
  {
   "cell_type": "code",
   "execution_count": 5,
   "id": "b07a0a06-c76b-4c3f-b126-2b22840ad440",
   "metadata": {},
   "outputs": [],
   "source": [
    " is_student=True"
   ]
  },
  {
   "cell_type": "code",
   "execution_count": 6,
   "id": "ebadc68c-220a-4f95-9309-db3c06c50d95",
   "metadata": {},
   "outputs": [],
   "source": [
    "is_student=False"
   ]
  },
  {
   "cell_type": "code",
   "execution_count": null,
   "id": "14440b9f-fa5e-44ea-932a-7fb8889635be",
   "metadata": {},
   "outputs": [],
   "source": []
  }
 ],
 "metadata": {
  "kernelspec": {
   "display_name": "Python 3 (ipykernel)",
   "language": "python",
   "name": "python3"
  },
  "language_info": {
   "codemirror_mode": {
    "name": "ipython",
    "version": 3
   },
   "file_extension": ".py",
   "mimetype": "text/x-python",
   "name": "python",
   "nbconvert_exporter": "python",
   "pygments_lexer": "ipython3",
   "version": "3.10.8"
  }
 },
 "nbformat": 4,
 "nbformat_minor": 5
}
